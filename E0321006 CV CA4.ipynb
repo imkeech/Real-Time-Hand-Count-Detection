{
 "cells": [
  {
   "cell_type": "markdown",
   "id": "f8a4cfbe",
   "metadata": {},
   "source": [
    "# Hand Count: Real-Time Finger Detection Using Computer Vision"
   ]
  },
  {
   "cell_type": "code",
   "execution_count": 1,
   "id": "081dfc81",
   "metadata": {},
   "outputs": [
    {
     "name": "stdout",
     "output_type": "stream",
     "text": [
      "WARNING:tensorflow:From C:\\Users\\User\\anaconda3\\Lib\\site-packages\\keras\\src\\losses.py:2976: The name tf.losses.sparse_softmax_cross_entropy is deprecated. Please use tf.compat.v1.losses.sparse_softmax_cross_entropy instead.\n",
      "\n"
     ]
    },
    {
     "name": "stderr",
     "output_type": "stream",
     "text": [
      "C:\\Users\\User\\anaconda3\\Lib\\site-packages\\pandas\\core\\arrays\\masked.py:60: UserWarning: Pandas requires version '1.3.6' or newer of 'bottleneck' (version '1.3.5' currently installed).\n",
      "  from pandas.core import (\n"
     ]
    }
   ],
   "source": [
    "import cv2\n",
    "import mediapipe as mp"
   ]
  },
  {
   "cell_type": "code",
   "execution_count": 2,
   "id": "ea344f7f",
   "metadata": {},
   "outputs": [],
   "source": [
    "mp_hands = mp.solutions.hands\n",
    "hands = mp_hands.Hands(max_num_hands=2, min_detection_confidence=0.7)\n",
    "mp_draw = mp.solutions.drawing_utils\n",
    "\n",
    "cap = cv2.VideoCapture(0)"
   ]
  },
  {
   "cell_type": "code",
   "execution_count": 3,
   "id": "ec6e4249",
   "metadata": {},
   "outputs": [],
   "source": [
    "def count_fingers(hand_landmarks, hand_label):\n",
    "    finger_tips = [8, 12, 16, 20]\n",
    "    fingers_up = []\n",
    "\n",
    "    for tip_id in finger_tips:\n",
    "        tip = hand_landmarks.landmark[tip_id]\n",
    "        dip = hand_landmarks.landmark[tip_id - 2]\n",
    "\n",
    "        if tip.y < dip.y:\n",
    "            fingers_up.append(1)\n",
    "        else:\n",
    "            fingers_up.append(0)\n",
    "\n",
    "    thumb_tip = hand_landmarks.landmark[4]\n",
    "    thumb_knuckle = hand_landmarks.landmark[2]\n",
    "\n",
    "    if hand_label == 'Right':\n",
    "        if thumb_tip.x < thumb_knuckle.x:\n",
    "            fingers_up.append(1)\n",
    "        else:\n",
    "            fingers_up.append(0)\n",
    "    else:\n",
    "        if thumb_tip.x > thumb_knuckle.x:\n",
    "            fingers_up.append(1)\n",
    "        else:\n",
    "            fingers_up.append(0)\n",
    "\n",
    "    return fingers_up.count(1)\n",
    "\n",
    "previous_count = None\n",
    "previous_previous_count = None"
   ]
  },
  {
   "cell_type": "code",
   "execution_count": 4,
   "id": "81ad4491",
   "metadata": {},
   "outputs": [
    {
     "name": "stderr",
     "output_type": "stream",
     "text": [
      "C:\\Users\\User\\anaconda3\\Lib\\site-packages\\google\\protobuf\\symbol_database.py:55: UserWarning: SymbolDatabase.GetPrototype() is deprecated. Please use message_factory.GetMessageClass() instead. SymbolDatabase.GetPrototype() will be removed soon.\n",
      "  warnings.warn('SymbolDatabase.GetPrototype() is deprecated. Please '\n"
     ]
    }
   ],
   "source": [
    "while cap.isOpened():\n",
    "    success, frame = cap.read()\n",
    "    if not success:\n",
    "        break\n",
    "\n",
    "    frame = cv2.flip(frame, 1)\n",
    "    frame_rgb = cv2.cvtColor(frame, cv2.COLOR_BGR2RGB)\n",
    "    result = hands.process(frame_rgb)\n",
    "\n",
    "    total_fingers = 0\n",
    "\n",
    "    if result.multi_hand_landmarks:\n",
    "        for hand_landmarks, handedness in zip(result.multi_hand_landmarks, result.multi_handedness):\n",
    "            mp_draw.draw_landmarks(frame, hand_landmarks, mp_hands.HAND_CONNECTIONS)\n",
    "            hand_label = handedness.classification[0].label\n",
    "            total_fingers += count_fingers(hand_landmarks, hand_label)\n",
    "\n",
    "    if not result.multi_hand_landmarks:\n",
    "        if previous_count is not None and previous_previous_count is not None:\n",
    "            output = previous_count + previous_previous_count\n",
    "            cv2.putText(frame, f'Total Fingers: {output} (previous: {previous_count})', \n",
    "                        (10, 70), cv2.FONT_HERSHEY_SIMPLEX, 1, (0, 255, 0), 2, cv2.LINE_AA)\n",
    "            cv2.putText(frame, f'{previous_previous_count} + {previous_count} = {output}', \n",
    "                        (frame.shape[1] - 300, frame.shape[0] - 30), cv2.FONT_HERSHEY_SIMPLEX, 1, (0, 0, 255), 2, cv2.LINE_AA)\n",
    "        else:\n",
    "            cv2.putText(frame, 'Total Fingers: 0', (10, 70), \n",
    "                        cv2.FONT_HERSHEY_SIMPLEX, 1, (0, 255, 0), 2, cv2.LINE_AA)\n",
    "    else:\n",
    "        if previous_count is None or previous_count != total_fingers:\n",
    "            previous_previous_count = previous_count\n",
    "            previous_count = total_fingers\n",
    "\n",
    "        cv2.putText(frame, f'Total Fingers: {total_fingers}', (10, 70), \n",
    "                    cv2.FONT_HERSHEY_SIMPLEX, 1, (0, 255, 0), 2, cv2.LINE_AA)\n",
    "\n",
    "    cv2.imshow(\"Hand Number Detection\", frame)\n",
    "\n",
    "    if cv2.waitKey(1) & 0xFF == 27:\n",
    "        break\n",
    "\n",
    "cap.release()\n",
    "cv2.destroyAllWindows()"
   ]
  },
  {
   "cell_type": "code",
   "execution_count": null,
   "id": "87e5f7e0",
   "metadata": {},
   "outputs": [],
   "source": []
  }
 ],
 "metadata": {
  "kernelspec": {
   "display_name": "Python 3 (ipykernel)",
   "language": "python",
   "name": "python3"
  },
  "language_info": {
   "codemirror_mode": {
    "name": "ipython",
    "version": 3
   },
   "file_extension": ".py",
   "mimetype": "text/x-python",
   "name": "python",
   "nbconvert_exporter": "python",
   "pygments_lexer": "ipython3",
   "version": "3.11.5"
  }
 },
 "nbformat": 4,
 "nbformat_minor": 5
}
